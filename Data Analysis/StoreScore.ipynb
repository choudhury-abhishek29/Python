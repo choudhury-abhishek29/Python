{
 "cells": [
  {
   "cell_type": "markdown",
   "metadata": {},
   "source": [
    "# Review Analysis for Reputation Assignment\n",
    "## Abhishek Choudhury\n",
    "### choudhury.abhishek29@gmail.com | Mobile : +1(669)247-9366"
   ]
  },
  {
   "cell_type": "markdown",
   "metadata": {},
   "source": [
    "Lets import the pandas for data analysis."
   ]
  },
  {
   "cell_type": "code",
   "execution_count": 1,
   "metadata": {
    "collapsed": true
   },
   "outputs": [],
   "source": [
    "import pandas as pd\n",
    "import numpy as np"
   ]
  },
  {
   "cell_type": "markdown",
   "metadata": {},
   "source": [
    "Importing the data"
   ]
  },
  {
   "cell_type": "code",
   "execution_count": 2,
   "metadata": {
    "collapsed": true
   },
   "outputs": [],
   "source": [
    "reviews = pd.read_csv(\"reviews.csv\");\n",
    "categories = pd.read_csv(\"categories.csv\");"
   ]
  },
  {
   "cell_type": "markdown",
   "metadata": {},
   "source": [
    "Merge the two data sets to consolidate the ratings, reviews and sentiments "
   ]
  },
  {
   "cell_type": "code",
   "execution_count": 3,
   "metadata": {
    "collapsed": true
   },
   "outputs": [],
   "source": [
    "all_data = pd.merge(reviews, categories, on='review_id', how='left')"
   ]
  },
  {
   "cell_type": "code",
   "execution_count": 4,
   "metadata": {
    "collapsed": false,
    "scrolled": true
   },
   "outputs": [
    {
     "data": {
      "text/html": [
       "<div>\n",
       "<table border=\"1\" class=\"dataframe\">\n",
       "  <thead>\n",
       "    <tr style=\"text-align: right;\">\n",
       "      <th></th>\n",
       "      <th>location_id</th>\n",
       "      <th>review_id</th>\n",
       "      <th>date</th>\n",
       "      <th>rating</th>\n",
       "      <th>comment</th>\n",
       "      <th>category</th>\n",
       "      <th>sentiment</th>\n",
       "    </tr>\n",
       "  </thead>\n",
       "  <tbody>\n",
       "    <tr>\n",
       "      <th>0</th>\n",
       "      <td>4962_661</td>\n",
       "      <td>GOOGLE_PLACES_0</td>\n",
       "      <td>2016-10-13 07:00:00</td>\n",
       "      <td>1.0</td>\n",
       "      <td>Very bad service. They don't follow a systemat...</td>\n",
       "      <td>maintenance_service</td>\n",
       "      <td>-1.0</td>\n",
       "    </tr>\n",
       "    <tr>\n",
       "      <th>1</th>\n",
       "      <td>4962_661</td>\n",
       "      <td>GOOGLE_PLACES_1</td>\n",
       "      <td>2017-04-02 07:00:00</td>\n",
       "      <td>5.0</td>\n",
       "      <td>Darren and Mo were awesome in putting me in my...</td>\n",
       "      <td>overall_experience</td>\n",
       "      <td>1.0</td>\n",
       "    </tr>\n",
       "    <tr>\n",
       "      <th>2</th>\n",
       "      <td>4962_661</td>\n",
       "      <td>GOOGLE_PLACES_2</td>\n",
       "      <td>2016-10-01 07:00:00</td>\n",
       "      <td>5.0</td>\n",
       "      <td>My salesman Digsby was great and very helpful ...</td>\n",
       "      <td>buying_a_car</td>\n",
       "      <td>1.0</td>\n",
       "    </tr>\n",
       "    <tr>\n",
       "      <th>3</th>\n",
       "      <td>4962_661</td>\n",
       "      <td>GOOGLE_PLACES_2</td>\n",
       "      <td>2016-10-01 07:00:00</td>\n",
       "      <td>5.0</td>\n",
       "      <td>My salesman Digsby was great and very helpful ...</td>\n",
       "      <td>customer_service</td>\n",
       "      <td>1.0</td>\n",
       "    </tr>\n",
       "    <tr>\n",
       "      <th>4</th>\n",
       "      <td>4962_661</td>\n",
       "      <td>GOOGLE_PLACES_3</td>\n",
       "      <td>2017-03-28 07:00:00</td>\n",
       "      <td>2.0</td>\n",
       "      <td>As any other dealership, they will try to rip ...</td>\n",
       "      <td>buying_a_car</td>\n",
       "      <td>-1.0</td>\n",
       "    </tr>\n",
       "  </tbody>\n",
       "</table>\n",
       "</div>"
      ],
      "text/plain": [
       "  location_id        review_id                 date  rating  \\\n",
       "0    4962_661  GOOGLE_PLACES_0  2016-10-13 07:00:00     1.0   \n",
       "1    4962_661  GOOGLE_PLACES_1  2017-04-02 07:00:00     5.0   \n",
       "2    4962_661  GOOGLE_PLACES_2  2016-10-01 07:00:00     5.0   \n",
       "3    4962_661  GOOGLE_PLACES_2  2016-10-01 07:00:00     5.0   \n",
       "4    4962_661  GOOGLE_PLACES_3  2017-03-28 07:00:00     2.0   \n",
       "\n",
       "                                             comment             category  \\\n",
       "0  Very bad service. They don't follow a systemat...  maintenance_service   \n",
       "1  Darren and Mo were awesome in putting me in my...   overall_experience   \n",
       "2  My salesman Digsby was great and very helpful ...         buying_a_car   \n",
       "3  My salesman Digsby was great and very helpful ...     customer_service   \n",
       "4  As any other dealership, they will try to rip ...         buying_a_car   \n",
       "\n",
       "   sentiment  \n",
       "0       -1.0  \n",
       "1        1.0  \n",
       "2        1.0  \n",
       "3        1.0  \n",
       "4       -1.0  "
      ]
     },
     "execution_count": 4,
     "metadata": {},
     "output_type": "execute_result"
    }
   ],
   "source": [
    "all_data.head(5)"
   ]
  },
  {
   "cell_type": "code",
   "execution_count": 5,
   "metadata": {
    "collapsed": false
   },
   "outputs": [],
   "source": [
    "pos_sent = all_data[all_data['sentiment']==1]"
   ]
  },
  {
   "cell_type": "code",
   "execution_count": 6,
   "metadata": {
    "collapsed": false
   },
   "outputs": [],
   "source": [
    "pos_sent_count = pos_sent.groupby(['location_id', 'category'])['sentiment'].count().reset_index()\n",
    "pos_sent_count = pos_sent_count.rename(columns={'sentiment': 'pos_count'})"
   ]
  },
  {
   "cell_type": "code",
   "execution_count": 7,
   "metadata": {
    "collapsed": false
   },
   "outputs": [],
   "source": [
    "all_data_count = all_data.groupby(['location_id', 'category'])['sentiment'].count().reset_index()\n",
    "all_data_count = all_data_count.rename(columns={'sentiment': 'count'})"
   ]
  },
  {
   "cell_type": "code",
   "execution_count": 8,
   "metadata": {
    "collapsed": false
   },
   "outputs": [],
   "source": [
    "x = pd.merge(all_data_count, pos_sent_count, on=['location_id','category'], how='left')\n",
    "x = x.fillna(0)\n",
    "x['per_pos_sent'] = x['pos_count']/x['count']"
   ]
  },
  {
   "cell_type": "code",
   "execution_count": 9,
   "metadata": {
    "collapsed": false
   },
   "outputs": [
    {
     "data": {
      "text/html": [
       "<div>\n",
       "<table border=\"1\" class=\"dataframe\">\n",
       "  <thead>\n",
       "    <tr style=\"text-align: right;\">\n",
       "      <th></th>\n",
       "      <th>location_id</th>\n",
       "      <th>category</th>\n",
       "      <th>count</th>\n",
       "      <th>pos_count</th>\n",
       "      <th>per_pos_sent</th>\n",
       "    </tr>\n",
       "  </thead>\n",
       "  <tbody>\n",
       "    <tr>\n",
       "      <th>0</th>\n",
       "      <td>4962_1017</td>\n",
       "      <td>buying_a_car</td>\n",
       "      <td>3</td>\n",
       "      <td>3.0</td>\n",
       "      <td>1.000000</td>\n",
       "    </tr>\n",
       "    <tr>\n",
       "      <th>1</th>\n",
       "      <td>4962_1017</td>\n",
       "      <td>competence</td>\n",
       "      <td>3</td>\n",
       "      <td>3.0</td>\n",
       "      <td>1.000000</td>\n",
       "    </tr>\n",
       "    <tr>\n",
       "      <th>2</th>\n",
       "      <td>4962_1017</td>\n",
       "      <td>customer_service</td>\n",
       "      <td>9</td>\n",
       "      <td>9.0</td>\n",
       "      <td>1.000000</td>\n",
       "    </tr>\n",
       "    <tr>\n",
       "      <th>3</th>\n",
       "      <td>4962_1017</td>\n",
       "      <td>financing_a_car</td>\n",
       "      <td>1</td>\n",
       "      <td>1.0</td>\n",
       "      <td>1.000000</td>\n",
       "    </tr>\n",
       "    <tr>\n",
       "      <th>4</th>\n",
       "      <td>4962_1017</td>\n",
       "      <td>leasing_a_car</td>\n",
       "      <td>1</td>\n",
       "      <td>1.0</td>\n",
       "      <td>1.000000</td>\n",
       "    </tr>\n",
       "    <tr>\n",
       "      <th>5</th>\n",
       "      <td>4962_1017</td>\n",
       "      <td>likely_to_recommend_return</td>\n",
       "      <td>1</td>\n",
       "      <td>1.0</td>\n",
       "      <td>1.000000</td>\n",
       "    </tr>\n",
       "    <tr>\n",
       "      <th>6</th>\n",
       "      <td>4962_1017</td>\n",
       "      <td>maintenance_service</td>\n",
       "      <td>11</td>\n",
       "      <td>11.0</td>\n",
       "      <td>1.000000</td>\n",
       "    </tr>\n",
       "    <tr>\n",
       "      <th>7</th>\n",
       "      <td>4962_1017</td>\n",
       "      <td>overall_experience</td>\n",
       "      <td>7</td>\n",
       "      <td>6.0</td>\n",
       "      <td>0.857143</td>\n",
       "    </tr>\n",
       "    <tr>\n",
       "      <th>8</th>\n",
       "      <td>4962_1017</td>\n",
       "      <td>pricing</td>\n",
       "      <td>3</td>\n",
       "      <td>3.0</td>\n",
       "      <td>1.000000</td>\n",
       "    </tr>\n",
       "    <tr>\n",
       "      <th>9</th>\n",
       "      <td>4962_1017</td>\n",
       "      <td>sales_tactics</td>\n",
       "      <td>2</td>\n",
       "      <td>2.0</td>\n",
       "      <td>1.000000</td>\n",
       "    </tr>\n",
       "  </tbody>\n",
       "</table>\n",
       "</div>"
      ],
      "text/plain": [
       "  location_id                    category  count  pos_count  per_pos_sent\n",
       "0   4962_1017                buying_a_car      3        3.0      1.000000\n",
       "1   4962_1017                  competence      3        3.0      1.000000\n",
       "2   4962_1017            customer_service      9        9.0      1.000000\n",
       "3   4962_1017             financing_a_car      1        1.0      1.000000\n",
       "4   4962_1017               leasing_a_car      1        1.0      1.000000\n",
       "5   4962_1017  likely_to_recommend_return      1        1.0      1.000000\n",
       "6   4962_1017         maintenance_service     11       11.0      1.000000\n",
       "7   4962_1017          overall_experience      7        6.0      0.857143\n",
       "8   4962_1017                     pricing      3        3.0      1.000000\n",
       "9   4962_1017               sales_tactics      2        2.0      1.000000"
      ]
     },
     "execution_count": 9,
     "metadata": {},
     "output_type": "execute_result"
    }
   ],
   "source": [
    "x.head(10)"
   ]
  },
  {
   "cell_type": "markdown",
   "metadata": {},
   "source": [
    "We would need the average rating for each location."
   ]
  },
  {
   "cell_type": "code",
   "execution_count": 10,
   "metadata": {
    "collapsed": true
   },
   "outputs": [],
   "source": [
    "all_data_avg_rating = all_data.groupby(['location_id'])['rating'].mean().reset_index()"
   ]
  },
  {
   "cell_type": "code",
   "execution_count": 11,
   "metadata": {
    "collapsed": false
   },
   "outputs": [
    {
     "data": {
      "text/plain": [
       "22    4.728814\n",
       "Name: rating, dtype: float64"
      ]
     },
     "execution_count": 11,
     "metadata": {},
     "output_type": "execute_result"
    }
   ],
   "source": [
    "all_data_avg_rating.ix[all_data_avg_rating['location_id'] == '4962_248']['rating']"
   ]
  },
  {
   "cell_type": "markdown",
   "metadata": {},
   "source": [
    "For comparing the two locations, I would be assigning category wise score to both the locations. For this, I first calculate the percentage of people who have left a review with positive sentiment for that category. Then multiply this with the average rating for that location. This way, each category gets assigned a score based on the average rating.\n",
    "The reason behind calculating the % of people who left a positive sentiment is because, the number of reviews differ for both the locations. If we take a cumulative sentiment, the difference is huge, thus biasing the decision."
   ]
  },
  {
   "cell_type": "code",
   "execution_count": 12,
   "metadata": {
    "collapsed": false
   },
   "outputs": [
    {
     "name": "stderr",
     "output_type": "stream",
     "text": [
      "C:\\Users\\achou\\Anaconda2\\envs\\gl-env\\lib\\site-packages\\ipykernel\\__main__.py:4: SettingWithCopyWarning: \n",
      "A value is trying to be set on a copy of a slice from a DataFrame.\n",
      "Try using .loc[row_indexer,col_indexer] = value instead\n",
      "\n",
      "See the caveats in the documentation: http://pandas.pydata.org/pandas-docs/stable/indexing.html#indexing-view-versus-copy\n",
      "C:\\Users\\achou\\Anaconda2\\envs\\gl-env\\lib\\site-packages\\ipykernel\\__main__.py:5: SettingWithCopyWarning: \n",
      "A value is trying to be set on a copy of a slice from a DataFrame.\n",
      "Try using .loc[row_indexer,col_indexer] = value instead\n",
      "\n",
      "See the caveats in the documentation: http://pandas.pydata.org/pandas-docs/stable/indexing.html#indexing-view-versus-copy\n"
     ]
    }
   ],
   "source": [
    "pos_sent_248_956 = x[x['location_id'].isin(['4962_248','4962_956'])]\n",
    "pos_sent_248_956['avg_rating'] = np.where(pos_sent_248_956['location_id']=='4962_248', \n",
    "                                     all_data_avg_rating.ix[all_data_avg_rating['location_id'] == '4962_248']['rating'],\n",
    "                                     all_data_avg_rating.ix[all_data_avg_rating['location_id'] == '4962_956']['rating'])\n",
    "pos_sent_248_956['score'] = pos_sent_248_956['per_pos_sent']*pos_sent_248_956['avg_rating']"
   ]
  },
  {
   "cell_type": "code",
   "execution_count": 13,
   "metadata": {
    "collapsed": false
   },
   "outputs": [
    {
     "data": {
      "text/html": [
       "<div>\n",
       "<table border=\"1\" class=\"dataframe\">\n",
       "  <thead>\n",
       "    <tr style=\"text-align: right;\">\n",
       "      <th></th>\n",
       "      <th>location_id</th>\n",
       "      <th>category</th>\n",
       "      <th>count</th>\n",
       "      <th>pos_count</th>\n",
       "      <th>per_pos_sent</th>\n",
       "      <th>avg_rating</th>\n",
       "      <th>score</th>\n",
       "    </tr>\n",
       "  </thead>\n",
       "  <tbody>\n",
       "    <tr>\n",
       "      <th>250</th>\n",
       "      <td>4962_248</td>\n",
       "      <td>administration</td>\n",
       "      <td>3</td>\n",
       "      <td>3.0</td>\n",
       "      <td>1.000000</td>\n",
       "      <td>4.728814</td>\n",
       "      <td>4.728814</td>\n",
       "    </tr>\n",
       "    <tr>\n",
       "      <th>251</th>\n",
       "      <td>4962_248</td>\n",
       "      <td>buying_a_car</td>\n",
       "      <td>18</td>\n",
       "      <td>18.0</td>\n",
       "      <td>1.000000</td>\n",
       "      <td>4.728814</td>\n",
       "      <td>4.728814</td>\n",
       "    </tr>\n",
       "    <tr>\n",
       "      <th>252</th>\n",
       "      <td>4962_248</td>\n",
       "      <td>competence</td>\n",
       "      <td>14</td>\n",
       "      <td>14.0</td>\n",
       "      <td>1.000000</td>\n",
       "      <td>4.728814</td>\n",
       "      <td>4.728814</td>\n",
       "    </tr>\n",
       "    <tr>\n",
       "      <th>253</th>\n",
       "      <td>4962_248</td>\n",
       "      <td>customer_service</td>\n",
       "      <td>39</td>\n",
       "      <td>36.0</td>\n",
       "      <td>0.923077</td>\n",
       "      <td>4.728814</td>\n",
       "      <td>4.365059</td>\n",
       "    </tr>\n",
       "    <tr>\n",
       "      <th>254</th>\n",
       "      <td>4962_248</td>\n",
       "      <td>financing_a_car</td>\n",
       "      <td>4</td>\n",
       "      <td>4.0</td>\n",
       "      <td>1.000000</td>\n",
       "      <td>4.728814</td>\n",
       "      <td>4.728814</td>\n",
       "    </tr>\n",
       "    <tr>\n",
       "      <th>255</th>\n",
       "      <td>4962_248</td>\n",
       "      <td>getting_an_appointment</td>\n",
       "      <td>1</td>\n",
       "      <td>1.0</td>\n",
       "      <td>1.000000</td>\n",
       "      <td>4.728814</td>\n",
       "      <td>4.728814</td>\n",
       "    </tr>\n",
       "    <tr>\n",
       "      <th>256</th>\n",
       "      <td>4962_248</td>\n",
       "      <td>likely_to_recommend_return</td>\n",
       "      <td>11</td>\n",
       "      <td>11.0</td>\n",
       "      <td>1.000000</td>\n",
       "      <td>4.728814</td>\n",
       "      <td>4.728814</td>\n",
       "    </tr>\n",
       "    <tr>\n",
       "      <th>257</th>\n",
       "      <td>4962_248</td>\n",
       "      <td>maintenance_service</td>\n",
       "      <td>34</td>\n",
       "      <td>26.0</td>\n",
       "      <td>0.764706</td>\n",
       "      <td>4.728814</td>\n",
       "      <td>3.616152</td>\n",
       "    </tr>\n",
       "    <tr>\n",
       "      <th>258</th>\n",
       "      <td>4962_248</td>\n",
       "      <td>overall_experience</td>\n",
       "      <td>28</td>\n",
       "      <td>27.0</td>\n",
       "      <td>0.964286</td>\n",
       "      <td>4.728814</td>\n",
       "      <td>4.559927</td>\n",
       "    </tr>\n",
       "    <tr>\n",
       "      <th>259</th>\n",
       "      <td>4962_248</td>\n",
       "      <td>pricing</td>\n",
       "      <td>2</td>\n",
       "      <td>1.0</td>\n",
       "      <td>0.500000</td>\n",
       "      <td>4.728814</td>\n",
       "      <td>2.364407</td>\n",
       "    </tr>\n",
       "  </tbody>\n",
       "</table>\n",
       "</div>"
      ],
      "text/plain": [
       "    location_id                    category  count  pos_count  per_pos_sent  \\\n",
       "250    4962_248              administration      3        3.0      1.000000   \n",
       "251    4962_248                buying_a_car     18       18.0      1.000000   \n",
       "252    4962_248                  competence     14       14.0      1.000000   \n",
       "253    4962_248            customer_service     39       36.0      0.923077   \n",
       "254    4962_248             financing_a_car      4        4.0      1.000000   \n",
       "255    4962_248      getting_an_appointment      1        1.0      1.000000   \n",
       "256    4962_248  likely_to_recommend_return     11       11.0      1.000000   \n",
       "257    4962_248         maintenance_service     34       26.0      0.764706   \n",
       "258    4962_248          overall_experience     28       27.0      0.964286   \n",
       "259    4962_248                     pricing      2        1.0      0.500000   \n",
       "\n",
       "     avg_rating     score  \n",
       "250    4.728814  4.728814  \n",
       "251    4.728814  4.728814  \n",
       "252    4.728814  4.728814  \n",
       "253    4.728814  4.365059  \n",
       "254    4.728814  4.728814  \n",
       "255    4.728814  4.728814  \n",
       "256    4.728814  4.728814  \n",
       "257    4.728814  3.616152  \n",
       "258    4.728814  4.559927  \n",
       "259    4.728814  2.364407  "
      ]
     },
     "execution_count": 13,
     "metadata": {},
     "output_type": "execute_result"
    }
   ],
   "source": [
    "pos_sent_248_956.head(10)"
   ]
  },
  {
   "cell_type": "markdown",
   "metadata": {},
   "source": [
    "Importing Seaborn for plotting the scores for the two locations"
   ]
  },
  {
   "cell_type": "code",
   "execution_count": 14,
   "metadata": {
    "collapsed": false
   },
   "outputs": [
    {
     "name": "stdout",
     "output_type": "stream",
     "text": [
      "Populating the interactive namespace from numpy and matplotlib\n"
     ]
    }
   ],
   "source": [
    "import seaborn as sns\n",
    "%pylab inline"
   ]
  },
  {
   "cell_type": "code",
   "execution_count": 15,
   "metadata": {
    "collapsed": false
   },
   "outputs": [
    {
     "data": {
      "text/plain": [
       "<seaborn.axisgrid.FacetGrid at 0xbd1e4e0>"
      ]
     },
     "execution_count": 15,
     "metadata": {},
     "output_type": "execute_result"
    },
    {
     "data": {
      "image/png": "[encoded data removed]",
      "text/plain": [
       "<matplotlib.figure.Figure at 0xbd1e550>"
      ]
     },
     "metadata": {},
     "output_type": "display_data"
    }
   ],
   "source": [
    "g = sns.factorplot(x=\"category\", y=\"score\",aspect=4, data=pos_sent_248_956, hue=\"location_id\", kind=\"bar\" )\n",
    "g.set_xticklabels(rotation=90)"
   ]
  },
  {
   "cell_type": "markdown",
   "metadata": {},
   "source": [
    "##### 1. Lets consider, Location 4962_248 : A Location 4962_956 : B\n",
    "<br>\n",
    "From the data we have found out that location A has very few number of reviews as compared to location B. But if we take a look at the scores for both the location, we see that other than administration, test drive, car leasing and parts purchasing, location A has higher scores. We may consider this location to be a smaller dealer who is just into selling cars as compared to location B which seems to be expanding its services e.g leasing cars and selling parts. But on the other hand, Location A seems to be highly focussed on maintaining their sales and customer relation by maintaining customer relations through commendable customer service, ease in getting an appointment and other practices. They are also more likely to be recommended to their customers' friends due to their better service.\n",
    "<p>\n",
    "If we consider the category 'buying_a_car', we see the score for the location 4962_248 is higher. Thus my recommendation would be Location 4962_248."
   ]
  },
  {
   "cell_type": "code",
   "execution_count": 16,
   "metadata": {
    "collapsed": false
   },
   "outputs": [],
   "source": [
    "all_data_avg_pos_sent = x.groupby(['location_id'])['per_pos_sent'].mean().reset_index()"
   ]
  },
  {
   "cell_type": "code",
   "execution_count": 38,
   "metadata": {
    "collapsed": false
   },
   "outputs": [],
   "source": [
    "loc_scores = pd.merge(all_data_avg_pos_sent, all_data_avg_rating, on='location_id', how='left')"
   ]
  },
  {
   "cell_type": "markdown",
   "metadata": {},
   "source": [
    "##### 2. a) Rank for the 100 locations.\n",
    "For ranking the locations, similar to previous score, I have assigned a score to each location. This time though, since each review gets categorized into multiple categories, first I have calculated the percentage of the reviews with a positive sentiment for each category. Then I have taken a mean of the categories for each location. The score is a product the average rating of a location and average of % of people who left a review with a positive sentiment score."
   ]
  },
  {
   "cell_type": "code",
   "execution_count": 18,
   "metadata": {
    "collapsed": false
   },
   "outputs": [
    {
     "name": "stderr",
     "output_type": "stream",
     "text": [
      "C:\\Users\\achou\\Anaconda2\\envs\\gl-env\\lib\\site-packages\\ipykernel\\__main__.py:2: FutureWarning: sort(columns=....) is deprecated, use sort_values(by=.....)\n",
      "  from ipykernel import kernelapp as app\n"
     ]
    },
    {
     "data": {
      "text/html": [
       "<div>\n",
       "<table border=\"1\" class=\"dataframe\">\n",
       "  <thead>\n",
       "    <tr style=\"text-align: right;\">\n",
       "      <th></th>\n",
       "      <th>location_id</th>\n",
       "      <th>per_pos_sent</th>\n",
       "      <th>rating</th>\n",
       "      <th>score</th>\n",
       "    </tr>\n",
       "  </thead>\n",
       "  <tbody>\n",
       "    <tr>\n",
       "      <th>81</th>\n",
       "      <td>4962_837</td>\n",
       "      <td>1.000000</td>\n",
       "      <td>5.000000</td>\n",
       "      <td>5.000000</td>\n",
       "    </tr>\n",
       "    <tr>\n",
       "      <th>90</th>\n",
       "      <td>4962_918</td>\n",
       "      <td>1.000000</td>\n",
       "      <td>4.935484</td>\n",
       "      <td>4.935484</td>\n",
       "    </tr>\n",
       "    <tr>\n",
       "      <th>47</th>\n",
       "      <td>4962_495</td>\n",
       "      <td>1.000000</td>\n",
       "      <td>4.920000</td>\n",
       "      <td>4.920000</td>\n",
       "    </tr>\n",
       "    <tr>\n",
       "      <th>2</th>\n",
       "      <td>4962_131</td>\n",
       "      <td>0.968041</td>\n",
       "      <td>4.969095</td>\n",
       "      <td>4.810289</td>\n",
       "    </tr>\n",
       "    <tr>\n",
       "      <th>45</th>\n",
       "      <td>4962_484</td>\n",
       "      <td>0.988457</td>\n",
       "      <td>4.810526</td>\n",
       "      <td>4.754997</td>\n",
       "    </tr>\n",
       "    <tr>\n",
       "      <th>70</th>\n",
       "      <td>4962_70</td>\n",
       "      <td>0.983095</td>\n",
       "      <td>4.824468</td>\n",
       "      <td>4.742910</td>\n",
       "    </tr>\n",
       "    <tr>\n",
       "      <th>75</th>\n",
       "      <td>4962_772</td>\n",
       "      <td>0.969550</td>\n",
       "      <td>4.877907</td>\n",
       "      <td>4.729373</td>\n",
       "    </tr>\n",
       "    <tr>\n",
       "      <th>43</th>\n",
       "      <td>4962_435</td>\n",
       "      <td>0.974188</td>\n",
       "      <td>4.824228</td>\n",
       "      <td>4.699706</td>\n",
       "    </tr>\n",
       "    <tr>\n",
       "      <th>1</th>\n",
       "      <td>4962_114</td>\n",
       "      <td>0.977199</td>\n",
       "      <td>4.741007</td>\n",
       "      <td>4.632907</td>\n",
       "    </tr>\n",
       "    <tr>\n",
       "      <th>97</th>\n",
       "      <td>4962_976</td>\n",
       "      <td>1.000000</td>\n",
       "      <td>4.617647</td>\n",
       "      <td>4.617647</td>\n",
       "    </tr>\n",
       "    <tr>\n",
       "      <th>98</th>\n",
       "      <td>4962_985</td>\n",
       "      <td>0.970854</td>\n",
       "      <td>4.656250</td>\n",
       "      <td>4.520537</td>\n",
       "    </tr>\n",
       "    <tr>\n",
       "      <th>46</th>\n",
       "      <td>4962_492</td>\n",
       "      <td>0.993939</td>\n",
       "      <td>4.470588</td>\n",
       "      <td>4.443494</td>\n",
       "    </tr>\n",
       "    <tr>\n",
       "      <th>41</th>\n",
       "      <td>4962_419</td>\n",
       "      <td>0.932383</td>\n",
       "      <td>4.755800</td>\n",
       "      <td>4.434229</td>\n",
       "    </tr>\n",
       "    <tr>\n",
       "      <th>56</th>\n",
       "      <td>4962_619</td>\n",
       "      <td>0.974769</td>\n",
       "      <td>4.525510</td>\n",
       "      <td>4.411325</td>\n",
       "    </tr>\n",
       "    <tr>\n",
       "      <th>42</th>\n",
       "      <td>4962_431</td>\n",
       "      <td>0.904590</td>\n",
       "      <td>4.875365</td>\n",
       "      <td>4.410206</td>\n",
       "    </tr>\n",
       "    <tr>\n",
       "      <th>71</th>\n",
       "      <td>4962_717</td>\n",
       "      <td>0.944544</td>\n",
       "      <td>4.669031</td>\n",
       "      <td>4.410104</td>\n",
       "    </tr>\n",
       "    <tr>\n",
       "      <th>37</th>\n",
       "      <td>4962_373</td>\n",
       "      <td>0.950201</td>\n",
       "      <td>4.544379</td>\n",
       "      <td>4.318071</td>\n",
       "    </tr>\n",
       "    <tr>\n",
       "      <th>94</th>\n",
       "      <td>4962_956</td>\n",
       "      <td>0.940022</td>\n",
       "      <td>4.586116</td>\n",
       "      <td>4.311049</td>\n",
       "    </tr>\n",
       "    <tr>\n",
       "      <th>48</th>\n",
       "      <td>4962_552</td>\n",
       "      <td>0.934236</td>\n",
       "      <td>4.598253</td>\n",
       "      <td>4.295855</td>\n",
       "    </tr>\n",
       "    <tr>\n",
       "      <th>55</th>\n",
       "      <td>4962_611</td>\n",
       "      <td>0.956534</td>\n",
       "      <td>4.476684</td>\n",
       "      <td>4.282100</td>\n",
       "    </tr>\n",
       "    <tr>\n",
       "      <th>28</th>\n",
       "      <td>4962_288</td>\n",
       "      <td>0.943851</td>\n",
       "      <td>4.534884</td>\n",
       "      <td>4.280253</td>\n",
       "    </tr>\n",
       "    <tr>\n",
       "      <th>38</th>\n",
       "      <td>4962_393</td>\n",
       "      <td>0.916667</td>\n",
       "      <td>4.666667</td>\n",
       "      <td>4.277778</td>\n",
       "    </tr>\n",
       "    <tr>\n",
       "      <th>82</th>\n",
       "      <td>4962_847</td>\n",
       "      <td>0.981546</td>\n",
       "      <td>4.357513</td>\n",
       "      <td>4.277098</td>\n",
       "    </tr>\n",
       "    <tr>\n",
       "      <th>39</th>\n",
       "      <td>4962_398</td>\n",
       "      <td>1.000000</td>\n",
       "      <td>4.260870</td>\n",
       "      <td>4.260870</td>\n",
       "    </tr>\n",
       "    <tr>\n",
       "      <th>14</th>\n",
       "      <td>4962_221</td>\n",
       "      <td>0.977930</td>\n",
       "      <td>4.355330</td>\n",
       "      <td>4.259209</td>\n",
       "    </tr>\n",
       "    <tr>\n",
       "      <th>54</th>\n",
       "      <td>4962_599</td>\n",
       "      <td>0.985962</td>\n",
       "      <td>4.312977</td>\n",
       "      <td>4.252430</td>\n",
       "    </tr>\n",
       "    <tr>\n",
       "      <th>87</th>\n",
       "      <td>4962_878</td>\n",
       "      <td>0.941729</td>\n",
       "      <td>4.514286</td>\n",
       "      <td>4.251232</td>\n",
       "    </tr>\n",
       "    <tr>\n",
       "      <th>7</th>\n",
       "      <td>4962_155</td>\n",
       "      <td>0.931973</td>\n",
       "      <td>4.555556</td>\n",
       "      <td>4.245654</td>\n",
       "    </tr>\n",
       "    <tr>\n",
       "      <th>21</th>\n",
       "      <td>4962_248</td>\n",
       "      <td>0.896313</td>\n",
       "      <td>4.728814</td>\n",
       "      <td>4.238497</td>\n",
       "    </tr>\n",
       "    <tr>\n",
       "      <th>26</th>\n",
       "      <td>4962_279</td>\n",
       "      <td>0.973313</td>\n",
       "      <td>4.353293</td>\n",
       "      <td>4.237117</td>\n",
       "    </tr>\n",
       "    <tr>\n",
       "      <th>...</th>\n",
       "      <td>...</td>\n",
       "      <td>...</td>\n",
       "      <td>...</td>\n",
       "      <td>...</td>\n",
       "    </tr>\n",
       "    <tr>\n",
       "      <th>96</th>\n",
       "      <td>4962_974</td>\n",
       "      <td>0.916667</td>\n",
       "      <td>3.888889</td>\n",
       "      <td>3.564815</td>\n",
       "    </tr>\n",
       "    <tr>\n",
       "      <th>67</th>\n",
       "      <td>4962_680</td>\n",
       "      <td>0.819410</td>\n",
       "      <td>4.319608</td>\n",
       "      <td>3.539531</td>\n",
       "    </tr>\n",
       "    <tr>\n",
       "      <th>44</th>\n",
       "      <td>4962_457</td>\n",
       "      <td>0.878037</td>\n",
       "      <td>4.003942</td>\n",
       "      <td>3.515609</td>\n",
       "    </tr>\n",
       "    <tr>\n",
       "      <th>69</th>\n",
       "      <td>4962_7</td>\n",
       "      <td>0.841461</td>\n",
       "      <td>4.153846</td>\n",
       "      <td>3.495301</td>\n",
       "    </tr>\n",
       "    <tr>\n",
       "      <th>4</th>\n",
       "      <td>4962_145</td>\n",
       "      <td>0.882353</td>\n",
       "      <td>3.953846</td>\n",
       "      <td>3.488688</td>\n",
       "    </tr>\n",
       "    <tr>\n",
       "      <th>72</th>\n",
       "      <td>4962_738</td>\n",
       "      <td>0.907080</td>\n",
       "      <td>3.738903</td>\n",
       "      <td>3.391485</td>\n",
       "    </tr>\n",
       "    <tr>\n",
       "      <th>77</th>\n",
       "      <td>4962_784</td>\n",
       "      <td>0.751207</td>\n",
       "      <td>4.457944</td>\n",
       "      <td>3.348840</td>\n",
       "    </tr>\n",
       "    <tr>\n",
       "      <th>86</th>\n",
       "      <td>4962_869</td>\n",
       "      <td>0.855062</td>\n",
       "      <td>3.849155</td>\n",
       "      <td>3.291265</td>\n",
       "    </tr>\n",
       "    <tr>\n",
       "      <th>32</th>\n",
       "      <td>4962_315</td>\n",
       "      <td>0.915876</td>\n",
       "      <td>3.571795</td>\n",
       "      <td>3.271320</td>\n",
       "    </tr>\n",
       "    <tr>\n",
       "      <th>18</th>\n",
       "      <td>4962_231</td>\n",
       "      <td>0.928571</td>\n",
       "      <td>3.472727</td>\n",
       "      <td>3.224675</td>\n",
       "    </tr>\n",
       "    <tr>\n",
       "      <th>59</th>\n",
       "      <td>4962_641</td>\n",
       "      <td>0.852625</td>\n",
       "      <td>3.778267</td>\n",
       "      <td>3.221445</td>\n",
       "    </tr>\n",
       "    <tr>\n",
       "      <th>92</th>\n",
       "      <td>4962_95</td>\n",
       "      <td>0.886857</td>\n",
       "      <td>3.567669</td>\n",
       "      <td>3.164012</td>\n",
       "    </tr>\n",
       "    <tr>\n",
       "      <th>60</th>\n",
       "      <td>4962_643</td>\n",
       "      <td>0.836808</td>\n",
       "      <td>3.757143</td>\n",
       "      <td>3.144009</td>\n",
       "    </tr>\n",
       "    <tr>\n",
       "      <th>35</th>\n",
       "      <td>4962_370</td>\n",
       "      <td>0.861813</td>\n",
       "      <td>3.540351</td>\n",
       "      <td>3.051121</td>\n",
       "    </tr>\n",
       "    <tr>\n",
       "      <th>95</th>\n",
       "      <td>4962_959</td>\n",
       "      <td>0.815257</td>\n",
       "      <td>3.672043</td>\n",
       "      <td>2.993659</td>\n",
       "    </tr>\n",
       "    <tr>\n",
       "      <th>11</th>\n",
       "      <td>4962_205</td>\n",
       "      <td>0.805116</td>\n",
       "      <td>3.691188</td>\n",
       "      <td>2.971835</td>\n",
       "    </tr>\n",
       "    <tr>\n",
       "      <th>24</th>\n",
       "      <td>4962_266</td>\n",
       "      <td>0.819558</td>\n",
       "      <td>3.571429</td>\n",
       "      <td>2.926992</td>\n",
       "    </tr>\n",
       "    <tr>\n",
       "      <th>27</th>\n",
       "      <td>4962_28</td>\n",
       "      <td>0.968254</td>\n",
       "      <td>3.022222</td>\n",
       "      <td>2.926279</td>\n",
       "    </tr>\n",
       "    <tr>\n",
       "      <th>51</th>\n",
       "      <td>4962_561</td>\n",
       "      <td>0.839568</td>\n",
       "      <td>3.427083</td>\n",
       "      <td>2.877270</td>\n",
       "    </tr>\n",
       "    <tr>\n",
       "      <th>15</th>\n",
       "      <td>4962_223</td>\n",
       "      <td>0.861806</td>\n",
       "      <td>3.291667</td>\n",
       "      <td>2.836777</td>\n",
       "    </tr>\n",
       "    <tr>\n",
       "      <th>31</th>\n",
       "      <td>4962_314</td>\n",
       "      <td>0.907903</td>\n",
       "      <td>3.107143</td>\n",
       "      <td>2.820983</td>\n",
       "    </tr>\n",
       "    <tr>\n",
       "      <th>52</th>\n",
       "      <td>4962_580</td>\n",
       "      <td>0.764631</td>\n",
       "      <td>3.471042</td>\n",
       "      <td>2.654068</td>\n",
       "    </tr>\n",
       "    <tr>\n",
       "      <th>40</th>\n",
       "      <td>4962_407</td>\n",
       "      <td>0.748545</td>\n",
       "      <td>3.511364</td>\n",
       "      <td>2.628414</td>\n",
       "    </tr>\n",
       "    <tr>\n",
       "      <th>80</th>\n",
       "      <td>4962_825</td>\n",
       "      <td>0.605769</td>\n",
       "      <td>4.234043</td>\n",
       "      <td>2.564853</td>\n",
       "    </tr>\n",
       "    <tr>\n",
       "      <th>85</th>\n",
       "      <td>4962_865</td>\n",
       "      <td>0.866640</td>\n",
       "      <td>2.888889</td>\n",
       "      <td>2.503627</td>\n",
       "    </tr>\n",
       "    <tr>\n",
       "      <th>16</th>\n",
       "      <td>4962_226</td>\n",
       "      <td>0.916667</td>\n",
       "      <td>2.615385</td>\n",
       "      <td>2.397436</td>\n",
       "    </tr>\n",
       "    <tr>\n",
       "      <th>22</th>\n",
       "      <td>4962_249</td>\n",
       "      <td>1.000000</td>\n",
       "      <td>2.333333</td>\n",
       "      <td>2.333333</td>\n",
       "    </tr>\n",
       "    <tr>\n",
       "      <th>19</th>\n",
       "      <td>4962_237</td>\n",
       "      <td>0.785714</td>\n",
       "      <td>2.647059</td>\n",
       "      <td>2.079832</td>\n",
       "    </tr>\n",
       "    <tr>\n",
       "      <th>49</th>\n",
       "      <td>4962_556</td>\n",
       "      <td>0.500000</td>\n",
       "      <td>3.000000</td>\n",
       "      <td>1.500000</td>\n",
       "    </tr>\n",
       "    <tr>\n",
       "      <th>6</th>\n",
       "      <td>4962_152</td>\n",
       "      <td>0.000000</td>\n",
       "      <td>1.000000</td>\n",
       "      <td>0.000000</td>\n",
       "    </tr>\n",
       "  </tbody>\n",
       "</table>\n",
       "<p>99 rows × 4 columns</p>\n",
       "</div>"
      ],
      "text/plain": [
       "   location_id  per_pos_sent    rating     score\n",
       "81    4962_837      1.000000  5.000000  5.000000\n",
       "90    4962_918      1.000000  4.935484  4.935484\n",
       "47    4962_495      1.000000  4.920000  4.920000\n",
       "2     4962_131      0.968041  4.969095  4.810289\n",
       "45    4962_484      0.988457  4.810526  4.754997\n",
       "70     4962_70      0.983095  4.824468  4.742910\n",
       "75    4962_772      0.969550  4.877907  4.729373\n",
       "43    4962_435      0.974188  4.824228  4.699706\n",
       "1     4962_114      0.977199  4.741007  4.632907\n",
       "97    4962_976      1.000000  4.617647  4.617647\n",
       "98    4962_985      0.970854  4.656250  4.520537\n",
       "46    4962_492      0.993939  4.470588  4.443494\n",
       "41    4962_419      0.932383  4.755800  4.434229\n",
       "56    4962_619      0.974769  4.525510  4.411325\n",
       "42    4962_431      0.904590  4.875365  4.410206\n",
       "71    4962_717      0.944544  4.669031  4.410104\n",
       "37    4962_373      0.950201  4.544379  4.318071\n",
       "94    4962_956      0.940022  4.586116  4.311049\n",
       "48    4962_552      0.934236  4.598253  4.295855\n",
       "55    4962_611      0.956534  4.476684  4.282100\n",
       "28    4962_288      0.943851  4.534884  4.280253\n",
       "38    4962_393      0.916667  4.666667  4.277778\n",
       "82    4962_847      0.981546  4.357513  4.277098\n",
       "39    4962_398      1.000000  4.260870  4.260870\n",
       "14    4962_221      0.977930  4.355330  4.259209\n",
       "54    4962_599      0.985962  4.312977  4.252430\n",
       "87    4962_878      0.941729  4.514286  4.251232\n",
       "7     4962_155      0.931973  4.555556  4.245654\n",
       "21    4962_248      0.896313  4.728814  4.238497\n",
       "26    4962_279      0.973313  4.353293  4.237117\n",
       "..         ...           ...       ...       ...\n",
       "96    4962_974      0.916667  3.888889  3.564815\n",
       "67    4962_680      0.819410  4.319608  3.539531\n",
       "44    4962_457      0.878037  4.003942  3.515609\n",
       "69      4962_7      0.841461  4.153846  3.495301\n",
       "4     4962_145      0.882353  3.953846  3.488688\n",
       "72    4962_738      0.907080  3.738903  3.391485\n",
       "77    4962_784      0.751207  4.457944  3.348840\n",
       "86    4962_869      0.855062  3.849155  3.291265\n",
       "32    4962_315      0.915876  3.571795  3.271320\n",
       "18    4962_231      0.928571  3.472727  3.224675\n",
       "59    4962_641      0.852625  3.778267  3.221445\n",
       "92     4962_95      0.886857  3.567669  3.164012\n",
       "60    4962_643      0.836808  3.757143  3.144009\n",
       "35    4962_370      0.861813  3.540351  3.051121\n",
       "95    4962_959      0.815257  3.672043  2.993659\n",
       "11    4962_205      0.805116  3.691188  2.971835\n",
       "24    4962_266      0.819558  3.571429  2.926992\n",
       "27     4962_28      0.968254  3.022222  2.926279\n",
       "51    4962_561      0.839568  3.427083  2.877270\n",
       "15    4962_223      0.861806  3.291667  2.836777\n",
       "31    4962_314      0.907903  3.107143  2.820983\n",
       "52    4962_580      0.764631  3.471042  2.654068\n",
       "40    4962_407      0.748545  3.511364  2.628414\n",
       "80    4962_825      0.605769  4.234043  2.564853\n",
       "85    4962_865      0.866640  2.888889  2.503627\n",
       "16    4962_226      0.916667  2.615385  2.397436\n",
       "22    4962_249      1.000000  2.333333  2.333333\n",
       "19    4962_237      0.785714  2.647059  2.079832\n",
       "49    4962_556      0.500000  3.000000  1.500000\n",
       "6     4962_152      0.000000  1.000000  0.000000\n",
       "\n",
       "[99 rows x 4 columns]"
      ]
     },
     "execution_count": 18,
     "metadata": {},
     "output_type": "execute_result"
    }
   ],
   "source": [
    "loc_scores['score'] = loc_scores['per_pos_sent']*loc_scores['rating']\n",
    "loc_scores.sort(['score'], ascending=0)"
   ]
  },
  {
   "cell_type": "markdown",
   "metadata": {},
   "source": [
    "##### 2. b) Problem with the ranking\n",
    "One problem with the ranking is if a location has a very few reviews and it gets categorized in very few categories. Score for such location may turn out to be as low as 0."
   ]
  },
  {
   "cell_type": "markdown",
   "metadata": {},
   "source": [
    "For finding the importance of categories, first we need to create dummy variables for each category and find their corelation to rating."
   ]
  },
  {
   "cell_type": "code",
   "execution_count": 19,
   "metadata": {
    "collapsed": true
   },
   "outputs": [],
   "source": [
    "dummies = pd.get_dummies(all_data[['category']], prefix='cat')"
   ]
  },
  {
   "cell_type": "code",
   "execution_count": 20,
   "metadata": {
    "collapsed": true
   },
   "outputs": [],
   "source": [
    "cat_rating = pd.concat([all_data, dummies], axis=1)"
   ]
  },
  {
   "cell_type": "markdown",
   "metadata": {},
   "source": [
    "##### 3. a) Rank the categories in order of importance\n",
    "\n",
    "Assumption : By 'Significance', I am considering the importance of a category and how many times a review gets categorized into that category. \n",
    "\n",
    "For finding the importance of each category, I have considerd the mean of sentiment for each of the category. The mean gives me the weight of each category regarding it has been categorized with a positive/negative/neutral sentiment, and how many times."
   ]
  },
  {
   "cell_type": "code",
   "execution_count": 22,
   "metadata": {
    "collapsed": false
   },
   "outputs": [
    {
     "name": "stderr",
     "output_type": "stream",
     "text": [
      "C:\\Users\\achou\\Anaconda2\\envs\\gl-env\\lib\\site-packages\\ipykernel\\__main__.py:1: FutureWarning: sort(columns=....) is deprecated, use sort_values(by=.....)\n",
      "  if __name__ == '__main__':\n"
     ]
    },
    {
     "data": {
      "text/html": [
       "<div>\n",
       "<table border=\"1\" class=\"dataframe\">\n",
       "  <thead>\n",
       "    <tr style=\"text-align: right;\">\n",
       "      <th></th>\n",
       "      <th>category</th>\n",
       "      <th>sentiment</th>\n",
       "    </tr>\n",
       "  </thead>\n",
       "  <tbody>\n",
       "    <tr>\n",
       "      <th>7</th>\n",
       "      <td>likely_to_recommend_return</td>\n",
       "      <td>0.957752</td>\n",
       "    </tr>\n",
       "    <tr>\n",
       "      <th>13</th>\n",
       "      <td>speed</td>\n",
       "      <td>0.938500</td>\n",
       "    </tr>\n",
       "    <tr>\n",
       "      <th>9</th>\n",
       "      <td>overall_experience</td>\n",
       "      <td>0.918941</td>\n",
       "    </tr>\n",
       "    <tr>\n",
       "      <th>12</th>\n",
       "      <td>sales_tactics</td>\n",
       "      <td>0.885865</td>\n",
       "    </tr>\n",
       "    <tr>\n",
       "      <th>2</th>\n",
       "      <td>competence</td>\n",
       "      <td>0.880795</td>\n",
       "    </tr>\n",
       "    <tr>\n",
       "      <th>3</th>\n",
       "      <td>customer_service</td>\n",
       "      <td>0.880078</td>\n",
       "    </tr>\n",
       "    <tr>\n",
       "      <th>1</th>\n",
       "      <td>buying_a_car</td>\n",
       "      <td>0.873927</td>\n",
       "    </tr>\n",
       "    <tr>\n",
       "      <th>6</th>\n",
       "      <td>leasing_a_car</td>\n",
       "      <td>0.858537</td>\n",
       "    </tr>\n",
       "    <tr>\n",
       "      <th>0</th>\n",
       "      <td>administration</td>\n",
       "      <td>0.796774</td>\n",
       "    </tr>\n",
       "    <tr>\n",
       "      <th>8</th>\n",
       "      <td>maintenance_service</td>\n",
       "      <td>0.789740</td>\n",
       "    </tr>\n",
       "    <tr>\n",
       "      <th>14</th>\n",
       "      <td>test_drive</td>\n",
       "      <td>0.748988</td>\n",
       "    </tr>\n",
       "    <tr>\n",
       "      <th>4</th>\n",
       "      <td>financing_a_car</td>\n",
       "      <td>0.746060</td>\n",
       "    </tr>\n",
       "    <tr>\n",
       "      <th>11</th>\n",
       "      <td>pricing</td>\n",
       "      <td>0.691589</td>\n",
       "    </tr>\n",
       "    <tr>\n",
       "      <th>5</th>\n",
       "      <td>getting_an_appointment</td>\n",
       "      <td>0.605505</td>\n",
       "    </tr>\n",
       "    <tr>\n",
       "      <th>10</th>\n",
       "      <td>parts_purchase</td>\n",
       "      <td>0.514706</td>\n",
       "    </tr>\n",
       "  </tbody>\n",
       "</table>\n",
       "</div>"
      ],
      "text/plain": [
       "                      category  sentiment\n",
       "7   likely_to_recommend_return   0.957752\n",
       "13                       speed   0.938500\n",
       "9           overall_experience   0.918941\n",
       "12               sales_tactics   0.885865\n",
       "2                   competence   0.880795\n",
       "3             customer_service   0.880078\n",
       "1                 buying_a_car   0.873927\n",
       "6                leasing_a_car   0.858537\n",
       "0               administration   0.796774\n",
       "8          maintenance_service   0.789740\n",
       "14                  test_drive   0.748988\n",
       "4              financing_a_car   0.746060\n",
       "11                     pricing   0.691589\n",
       "5       getting_an_appointment   0.605505\n",
       "10              parts_purchase   0.514706"
      ]
     },
     "execution_count": 22,
     "metadata": {},
     "output_type": "execute_result"
    }
   ],
   "source": [
    "cat_rating.groupby(['category'])['sentiment'].mean().reset_index().sort(['sentiment'], ascending= 0)"
   ]
  },
  {
   "cell_type": "markdown",
   "metadata": {},
   "source": [
    "From the above categorization, the most important category seems to be <i>'likely_to_recommend_return'</i>. Recommendation from friends help increase the number of customers for a location."
   ]
  },
  {
   "cell_type": "markdown",
   "metadata": {},
   "source": [
    "##### 3. b) Impact of a category on the rating\n",
    "For finding the impact of a particular category on the star rating, we need to calculate the correlation between the rating and the sentiment of each category."
   ]
  },
  {
   "cell_type": "code",
   "execution_count": 23,
   "metadata": {
    "collapsed": false
   },
   "outputs": [],
   "source": [
    "arr_cor = []\n",
    "for cat in all_data['category'].unique():\n",
    "    if(cat is not NaN):\n",
    "        temp = all_data[all_data['category']==cat]\n",
    "        tp = []\n",
    "        tp.append(cat)\n",
    "        tp.append(temp.corr().ix[1,0])\n",
    "        arr_cor.append(tp)\n",
    "    \n",
    "df_corr = pd.DataFrame(arr_cor)\n",
    "df_corr.columns=['category','correlation']"
   ]
  },
  {
   "cell_type": "code",
   "execution_count": 24,
   "metadata": {
    "collapsed": false
   },
   "outputs": [
    {
     "name": "stderr",
     "output_type": "stream",
     "text": [
      "C:\\Users\\achou\\Anaconda2\\envs\\gl-env\\lib\\site-packages\\ipykernel\\__main__.py:1: FutureWarning: sort(columns=....) is deprecated, use sort_values(by=.....)\n",
      "  if __name__ == '__main__':\n"
     ]
    },
    {
     "data": {
      "text/html": [
       "<div>\n",
       "<table border=\"1\" class=\"dataframe\">\n",
       "  <thead>\n",
       "    <tr style=\"text-align: right;\">\n",
       "      <th></th>\n",
       "      <th>category</th>\n",
       "      <th>correlation</th>\n",
       "    </tr>\n",
       "  </thead>\n",
       "  <tbody>\n",
       "    <tr>\n",
       "      <th>1</th>\n",
       "      <td>overall_experience</td>\n",
       "      <td>0.447317</td>\n",
       "    </tr>\n",
       "    <tr>\n",
       "      <th>0</th>\n",
       "      <td>maintenance_service</td>\n",
       "      <td>0.386089</td>\n",
       "    </tr>\n",
       "    <tr>\n",
       "      <th>3</th>\n",
       "      <td>customer_service</td>\n",
       "      <td>0.351204</td>\n",
       "    </tr>\n",
       "    <tr>\n",
       "      <th>12</th>\n",
       "      <td>financing_a_car</td>\n",
       "      <td>0.349925</td>\n",
       "    </tr>\n",
       "    <tr>\n",
       "      <th>2</th>\n",
       "      <td>buying_a_car</td>\n",
       "      <td>0.347218</td>\n",
       "    </tr>\n",
       "    <tr>\n",
       "      <th>10</th>\n",
       "      <td>test_drive</td>\n",
       "      <td>0.346611</td>\n",
       "    </tr>\n",
       "    <tr>\n",
       "      <th>13</th>\n",
       "      <td>leasing_a_car</td>\n",
       "      <td>0.345211</td>\n",
       "    </tr>\n",
       "    <tr>\n",
       "      <th>6</th>\n",
       "      <td>likely_to_recommend_return</td>\n",
       "      <td>0.297144</td>\n",
       "    </tr>\n",
       "    <tr>\n",
       "      <th>5</th>\n",
       "      <td>competence</td>\n",
       "      <td>0.292535</td>\n",
       "    </tr>\n",
       "    <tr>\n",
       "      <th>9</th>\n",
       "      <td>administration</td>\n",
       "      <td>0.261450</td>\n",
       "    </tr>\n",
       "    <tr>\n",
       "      <th>4</th>\n",
       "      <td>pricing</td>\n",
       "      <td>0.214500</td>\n",
       "    </tr>\n",
       "    <tr>\n",
       "      <th>11</th>\n",
       "      <td>getting_an_appointment</td>\n",
       "      <td>0.213728</td>\n",
       "    </tr>\n",
       "    <tr>\n",
       "      <th>7</th>\n",
       "      <td>sales_tactics</td>\n",
       "      <td>0.197011</td>\n",
       "    </tr>\n",
       "    <tr>\n",
       "      <th>8</th>\n",
       "      <td>speed</td>\n",
       "      <td>0.133196</td>\n",
       "    </tr>\n",
       "    <tr>\n",
       "      <th>14</th>\n",
       "      <td>parts_purchase</td>\n",
       "      <td>0.063100</td>\n",
       "    </tr>\n",
       "  </tbody>\n",
       "</table>\n",
       "</div>"
      ],
      "text/plain": [
       "                      category  correlation\n",
       "1           overall_experience     0.447317\n",
       "0          maintenance_service     0.386089\n",
       "3             customer_service     0.351204\n",
       "12             financing_a_car     0.349925\n",
       "2                 buying_a_car     0.347218\n",
       "10                  test_drive     0.346611\n",
       "13               leasing_a_car     0.345211\n",
       "6   likely_to_recommend_return     0.297144\n",
       "5                   competence     0.292535\n",
       "9               administration     0.261450\n",
       "4                      pricing     0.214500\n",
       "11      getting_an_appointment     0.213728\n",
       "7                sales_tactics     0.197011\n",
       "8                        speed     0.133196\n",
       "14              parts_purchase     0.063100"
      ]
     },
     "execution_count": 24,
     "metadata": {},
     "output_type": "execute_result"
    }
   ],
   "source": [
    "df_corr.sort(['correlation'], ascending=0)"
   ]
  },
  {
   "cell_type": "markdown",
   "metadata": {},
   "source": [
    "By looking at the correlation between star rating and the different categories, we notice that sentiments for <i>overall_experience</i> is the most positively correlated. Thus, the ratings grow higher with more reviews getting positive score for overall experince category."
   ]
  },
  {
   "cell_type": "markdown",
   "metadata": {},
   "source": [
    "##### 3. c) Three Categories I would choose : \n",
    "<ul>\n",
    "<li><i>overall_experience</i></li>\n",
    "<li><i>maintenance_service</i></li>\n",
    "<li><i>financing_a_car</i></li>\n",
    "</ul>\n",
    "<br>\n",
    "Because these are the three categories which effects the ratings most and something which can be improved. The more these increase, the better is the rating."
   ]
  },
  {
   "cell_type": "markdown",
   "metadata": {},
   "source": [
    "##### 4. Identify important words for a location\n",
    "Identifying important keywords for a location gives us a quick review. We dont need to go through each of the reviews.<br> \n",
    "<u><b>For Individual Words:</b></u>\n",
    "For identifying keywords from all the reviews, first we need to seggregate all the reviews in separate documents for each location. Then we remove all the stop words from these seggregated reviews. Once done, we can use <i>Term Frequency</i> for finding the important words. Also, if we want to see the occurence of these words accross different locations, we can create a <i>Term Frequency, Inverse Document Frequency(TF-IDF)</i> matrix. It is a way to score the importance of words in a document based on how frequently they appear across multiple documents.\n",
    "<br>\n",
    "<u><b>For Phrases:</b></u>\n",
    "Individual words at times are confusing. Some words may mean one thing when considered individually, but can mean toatlly something else when used in a phrase. To identify phrases which may describe a location, we need to club words which tend to occur together. This can be done by using <i>nGrams</i>. The length of phrases can be adjusted to whatever we like. Phrases like 'quick service', 'long waiting time' etc. gives us a quick review for a location."
   ]
  },
  {
   "cell_type": "markdown",
   "metadata": {},
   "source": [
    "##### 5. Lets gather the data for the location 4962_580"
   ]
  },
  {
   "cell_type": "code",
   "execution_count": 37,
   "metadata": {
    "collapsed": false
   },
   "outputs": [],
   "source": [
    "all_4962_580 = all_data[all_data['location_id'] == '4962_580']"
   ]
  },
  {
   "cell_type": "code",
   "execution_count": 26,
   "metadata": {
    "collapsed": false
   },
   "outputs": [],
   "source": [
    "all_4962_580 = all_4962_580.dropna()"
   ]
  },
  {
   "cell_type": "markdown",
   "metadata": {},
   "source": [
    "Since we are dealing with reviews, we would like to see which words and phrases occur multiple times and what do they mean. This will give us a brief idea of what people are talking about this location."
   ]
  },
  {
   "cell_type": "code",
   "execution_count": 27,
   "metadata": {
    "collapsed": true
   },
   "outputs": [],
   "source": [
    "from wordcloud import WordCloud\n",
    "from nltk.corpus import stopwords\n",
    "from nltk.tokenize import word_tokenize"
   ]
  },
  {
   "cell_type": "code",
   "execution_count": 28,
   "metadata": {
    "collapsed": true
   },
   "outputs": [],
   "source": [
    "rev = all_4962_580['comment'].unique()"
   ]
  },
  {
   "cell_type": "code",
   "execution_count": 29,
   "metadata": {
    "collapsed": true
   },
   "outputs": [],
   "source": [
    "text = \"\"\n",
    "for r in rev:\n",
    "    text = text+\" \"+r"
   ]
  },
  {
   "cell_type": "code",
   "execution_count": 30,
   "metadata": {
    "collapsed": false
   },
   "outputs": [],
   "source": [
    "stop_words = set(stopwords.words('english'))\n",
    "word_tokens = word_tokenize(text)\n",
    "filtered_sentence = [w for w in word_tokens if not w in stop_words]"
   ]
  },
  {
   "cell_type": "code",
   "execution_count": 31,
   "metadata": {
    "collapsed": true
   },
   "outputs": [],
   "source": [
    "filtered_sentence = []\n",
    " \n",
    "for w in word_tokens:\n",
    "    if w not in stop_words:\n",
    "        filtered_sentence.append(w)"
   ]
  },
  {
   "cell_type": "code",
   "execution_count": 32,
   "metadata": {
    "collapsed": false
   },
   "outputs": [],
   "source": [
    "wordcloud = WordCloud().generate(text)"
   ]
  },
  {
   "cell_type": "code",
   "execution_count": 33,
   "metadata": {
    "collapsed": false
   },
   "outputs": [
    {
     "data": {
      "text/plain": [
       "(-0.5, 399.5, 199.5, -0.5)"
      ]
     },
     "execution_count": 33,
     "metadata": {},
     "output_type": "execute_result"
    },
    {
     "data": {
      "image/png": "[encoded data removed]",
      "text/plain": [
       "<matplotlib.figure.Figure at 0xeee1668>"
      ]
     },
     "metadata": {},
     "output_type": "display_data"
    }
   ],
   "source": [
    "import matplotlib.pyplot as plt\n",
    "plt.imshow(wordcloud, interpolation='bilinear')\n",
    "plt.axis(\"off\")"
   ]
  },
  {
   "cell_type": "markdown",
   "metadata": {},
   "source": [
    "The words shown above in the wordcloud are the most used words in the reviews for the location.\n",
    "But these words individually are misleading. So we create bigrams to understand meaning of phrases in the text. "
   ]
  },
  {
   "cell_type": "code",
   "execution_count": 34,
   "metadata": {
    "collapsed": true
   },
   "outputs": [],
   "source": [
    "from nltk.collocations import TrigramCollocationFinder"
   ]
  },
  {
   "cell_type": "code",
   "execution_count": 35,
   "metadata": {
    "collapsed": false
   },
   "outputs": [],
   "source": [
    "finder = TrigramCollocationFinder.from_words(word_tokenize(text))\n",
    "ngram = finder.ngram_fd\n",
    "temp=[]\n",
    "for n in ngram:\n",
    "    tp=[]\n",
    "    tp.append(n)\n",
    "    tp.append(ngram[n])\n",
    "    temp.append(tp)\n",
    "\n",
    "ngram_freq = pd.DataFrame(temp)\n",
    "ngram_freq.columns=['ngram','frequency']"
   ]
  },
  {
   "cell_type": "code",
   "execution_count": 36,
   "metadata": {
    "collapsed": false
   },
   "outputs": [
    {
     "name": "stderr",
     "output_type": "stream",
     "text": [
      "C:\\Users\\achou\\Anaconda2\\envs\\gl-env\\lib\\site-packages\\ipykernel\\__main__.py:1: FutureWarning: sort(columns=....) is deprecated, use sort_values(by=.....)\n",
      "  if __name__ == '__main__':\n"
     ]
    },
    {
     "data": {
      "text/html": [
       "<div>\n",
       "<table border=\"1\" class=\"dataframe\">\n",
       "  <thead>\n",
       "    <tr style=\"text-align: right;\">\n",
       "      <th></th>\n",
       "      <th>ngram</th>\n",
       "      <th>frequency</th>\n",
       "    </tr>\n",
       "  </thead>\n",
       "  <tbody>\n",
       "    <tr>\n",
       "      <th>0</th>\n",
       "      <td>(Vince, who, got)</td>\n",
       "      <td>1</td>\n",
       "    </tr>\n",
       "    <tr>\n",
       "      <th>3987</th>\n",
       "      <td>(one, ., Good)</td>\n",
       "      <td>1</td>\n",
       "    </tr>\n",
       "    <tr>\n",
       "      <th>3986</th>\n",
       "      <td>(have, a, LAME)</td>\n",
       "      <td>1</td>\n",
       "    </tr>\n",
       "    <tr>\n",
       "      <th>3985</th>\n",
       "      <td>(be, stressful, but)</td>\n",
       "      <td>1</td>\n",
       "    </tr>\n",
       "    <tr>\n",
       "      <th>3984</th>\n",
       "      <td>(process, was, a)</td>\n",
       "      <td>1</td>\n",
       "    </tr>\n",
       "    <tr>\n",
       "      <th>3983</th>\n",
       "      <td>(of, the, tires)</td>\n",
       "      <td>1</td>\n",
       "    </tr>\n",
       "    <tr>\n",
       "      <th>3982</th>\n",
       "      <td>(been, a, customer)</td>\n",
       "      <td>1</td>\n",
       "    </tr>\n",
       "    <tr>\n",
       "      <th>3981</th>\n",
       "      <td>(theu, tell, you)</td>\n",
       "      <td>1</td>\n",
       "    </tr>\n",
       "    <tr>\n",
       "      <th>3980</th>\n",
       "      <td>(when, the, did)</td>\n",
       "      <td>1</td>\n",
       "    </tr>\n",
       "    <tr>\n",
       "      <th>3979</th>\n",
       "      <td>(while, ``, customers)</td>\n",
       "      <td>1</td>\n",
       "    </tr>\n",
       "  </tbody>\n",
       "</table>\n",
       "</div>"
      ],
      "text/plain": [
       "                       ngram  frequency\n",
       "0          (Vince, who, got)          1\n",
       "3987          (one, ., Good)          1\n",
       "3986         (have, a, LAME)          1\n",
       "3985    (be, stressful, but)          1\n",
       "3984       (process, was, a)          1\n",
       "3983        (of, the, tires)          1\n",
       "3982     (been, a, customer)          1\n",
       "3981       (theu, tell, you)          1\n",
       "3980        (when, the, did)          1\n",
       "3979  (while, ``, customers)          1"
      ]
     },
     "execution_count": 36,
     "metadata": {},
     "output_type": "execute_result"
    }
   ],
   "source": [
    "ngram_freq.sort(['frequency']).head(10)"
   ]
  },
  {
   "cell_type": "markdown",
   "metadata": {},
   "source": [
    "The n-grams help us understand phrases in the reviews. For the location 4962_580, reviews seem to have mixed reactions.\n",
    "A few phrases mentioning good things about the location are :  \n",
    "<ul>\n",
    "<li><i>(took, great, care)</i></li>\n",
    "<li><i>(good, customer, service)</i></li>\n",
    "<li><i>(went, extra, mile)</i></li>\n",
    "<li><i>(salespeople, well, trained)</i></li>\n",
    "</ul>\n",
    "\n",
    "A few phrases mentioning bad things about the location are :  \n",
    "<ul>\n",
    "<li><i>(feel, like, idiot)</i></li>\n",
    "<li><i>(money, care, nothing)</i></li>\n",
    "<li><i>(suck, keeping, word)</i></li>\n",
    "<li><i>(made, feel, uncomfortable)</i></li>\n",
    "</ul>"
   ]
  }
 ],
 "metadata": {
  "kernelspec": {
   "display_name": "Python 2",
   "language": "python",
   "name": "python2"
  },
  "language_info": {
   "codemirror_mode": {
    "name": "ipython",
    "version": 2.0
   },
   "file_extension": ".py",
   "mimetype": "text/x-python",
   "name": "python",
   "nbconvert_exporter": "python",
   "pygments_lexer": "ipython2",
   "version": "2.7.13"
  }
 },
 "nbformat": 4,
 "nbformat_minor": 0
}